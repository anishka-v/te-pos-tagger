{
 "cells": [
  {
   "cell_type": "code",
   "execution_count": 1,
   "metadata": {},
   "outputs": [
    {
     "name": "stderr",
     "output_type": "stream",
     "text": [
      "/Library/Frameworks/Python.framework/Versions/3.9/lib/python3.9/site-packages/scipy/__init__.py:146: UserWarning: A NumPy version >=1.17.3 and <1.25.0 is required for this version of SciPy (detected version 1.26.2\n",
      "  warnings.warn(f\"A NumPy version >={np_minversion} and <{np_maxversion}\"\n"
     ]
    }
   ],
   "source": [
    "import nltk\n",
    "import sklearn_crfsuite\n",
    "from sklearn_crfsuite import metrics\n"
   ]
  },
  {
   "cell_type": "code",
   "execution_count": 2,
   "metadata": {},
   "outputs": [
    {
     "name": "stdout",
     "output_type": "stream",
     "text": [
      "[[('Pierre', 'NNP'), ('Vinken', 'NNP'), (',', ','), ('61', 'CD'), ('years', 'NNS'), ('old', 'JJ'), (',', ','), ('will', 'MD'), ('join', 'VB'), ('the', 'DT'), ('board', 'NN'), ('as', 'IN'), ('a', 'DT'), ('nonexecutive', 'JJ'), ('director', 'NN'), ('Nov.', 'NNP'), ('29', 'CD'), ('.', '.')], [('Mr.', 'NNP'), ('Vinken', 'NNP'), ('is', 'VBZ'), ('chairman', 'NN'), ('of', 'IN'), ('Elsevier', 'NNP'), ('N.V.', 'NNP'), (',', ','), ('the', 'DT'), ('Dutch', 'NNP'), ('publishing', 'VBG'), ('group', 'NN'), ('.', '.')], ...]\n"
     ]
    },
    {
     "name": "stderr",
     "output_type": "stream",
     "text": [
      "[nltk_data] Downloading package treebank to\n",
      "[nltk_data]     /Users/anishka/nltk_data...\n",
      "[nltk_data]   Package treebank is already up-to-date!\n"
     ]
    }
   ],
   "source": [
    "# Load the Penn Treebank corpus\n",
    "nltk.download('treebank')\n",
    "corpus = nltk.corpus.treebank.tagged_sents()\n",
    "print(corpus)"
   ]
  },
  {
   "cell_type": "code",
   "execution_count": 3,
   "metadata": {},
   "outputs": [],
   "source": [
    "# Define a function to extract features for each word in a sentence\n",
    "def word_features(sentence, i):\n",
    "\tword = sentence[i][0]\n",
    "\tfeatures = {\n",
    "\t\t'word': word,\n",
    "\t\t'is_first': i == 0, #if the word is a first word\n",
    "\t\t'is_last': i == len(sentence) - 1, #if the word is a last word\n",
    "\t\t'is_capitalized': word[0].upper() == word[0],\n",
    "\t\t'is_all_caps': word.upper() == word,\t #word is in uppercase\n",
    "\t\t'is_all_lower': word.lower() == word,\t #word is in lowercase\n",
    "\t\t#prefix of the word\n",
    "\t\t'prefix-1': word[0], \n",
    "\t\t'prefix-2': word[:2],\n",
    "\t\t'prefix-3': word[:3],\n",
    "\t\t#suffix of the word\n",
    "\t\t'suffix-1': word[-1],\n",
    "\t\t'suffix-2': word[-2:],\n",
    "\t\t'suffix-3': word[-3:],\n",
    "\t\t#extracting previous word\n",
    "\t\t'prev_word': '' if i == 0 else sentence[i-1][0],\n",
    "\t\t#extracting next word\n",
    "\t\t'next_word': '' if i == len(sentence)-1 else sentence[i+1][0],\n",
    "\t\t'has_hyphen': '-' in word, #if word has hypen\n",
    "\t\t'is_numeric': word.isdigit(), #if word is in numeric\n",
    "\t\t'capitals_inside': word[1:].lower() != word[1:]\n",
    "\t}\n",
    "\treturn features\n"
   ]
  },
  {
   "cell_type": "code",
   "execution_count": 4,
   "metadata": {},
   "outputs": [],
   "source": [
    "# Extract features for each sentence in the corpus\n",
    "X = []\n",
    "y = []\n",
    "for sentence in corpus:\n",
    "\tX_sentence = []\n",
    "\ty_sentence = []\n",
    "\tfor i in range(len(sentence)):\n",
    "\t\tX_sentence.append(word_features(sentence, i))\n",
    "\t\ty_sentence.append(sentence[i][1])\n",
    "\tX.append(X_sentence)\n",
    "\ty.append(y_sentence)\n",
    "\n",
    "\n",
    "# Split the data into training and testing sets\n",
    "split = int(0.8 * len(X))\n",
    "X_train = X[:split]\n",
    "y_train = y[:split]\n",
    "X_test = X[split:]\n",
    "y_test = y[split:]\n"
   ]
  },
  {
   "cell_type": "code",
   "execution_count": 5,
   "metadata": {},
   "outputs": [
    {
     "name": "stdout",
     "output_type": "stream",
     "text": [
      "0.9632716203403363\n"
     ]
    }
   ],
   "source": [
    "# Train a CRF model on the training data\n",
    "crf = sklearn_crfsuite.CRF(\n",
    "\talgorithm='lbfgs',\n",
    "\tc1=0.1,\n",
    "\tc2=0.1,\n",
    "\tmax_iterations=100,\n",
    "\tall_possible_transitions=True\n",
    ")\n",
    "crf.fit(X_train, y_train)\n",
    "\n",
    "# Make predictions on the test data and evaluate the performance\n",
    "y_pred = crf.predict(X_test)\n",
    "\n",
    "print(metrics.flat_accuracy_score(y_test, y_pred))\n"
   ]
  },
  {
   "cell_type": "code",
   "execution_count": 7,
   "metadata": {},
   "outputs": [
    {
     "name": "stdout",
     "output_type": "stream",
     "text": [
      "[('I', 'PRP'), ('work', 'VBP'), ('in', 'JJ'), ('the', 'NN'), ('store.', 'NNS')]\n",
      "[('I', 'PRP'), ('am', 'DT'), ('at', 'DT'), ('work.', 'NN')]\n"
     ]
    }
   ],
   "source": [
    "import pycrfsuite\n",
    "\n",
    "# Train a CRF model suing pysrfsuite\n",
    "trainer = pycrfsuite.Trainer(verbose=False)\n",
    "for x, y in zip(X_train, y_train):\n",
    "\ttrainer.append(x, y)\n",
    "trainer.set_params({\n",
    "\t'c1': 1.0,\n",
    "\t'c2': 1e-3,\n",
    "\t'max_iterations': 50,\n",
    "\t'feature.possible_transitions': True\n",
    "})\n",
    "trainer.train('pos.crfsuite')\n",
    "\n",
    "# Tag a new sentence\n",
    "tagger = pycrfsuite.Tagger()\n",
    "tagger.open('pos.crfsuite')\n",
    "sentence = 'I work in the store.'.split()\n",
    "sentence1 = 'I am at work.'.split()\n",
    "features = [word_features(sentence, i) for i in range(len(sentence))]\n",
    "tags = tagger.tag(features)\n",
    "print(list(zip(sentence, tags)))\n",
    "\n",
    "features = [word_features(sentence1, i) for i in range(len(sentence1))]\n",
    "tags = tagger.tag(features)\n",
    "print(list(zip(sentence1, tags)))"
   ]
  }
 ],
 "metadata": {
  "kernelspec": {
   "display_name": "Python 3",
   "language": "python",
   "name": "python3"
  },
  "language_info": {
   "codemirror_mode": {
    "name": "ipython",
    "version": 3
   },
   "file_extension": ".py",
   "mimetype": "text/x-python",
   "name": "python",
   "nbconvert_exporter": "python",
   "pygments_lexer": "ipython3",
   "version": "3.9.6"
  }
 },
 "nbformat": 4,
 "nbformat_minor": 2
}
